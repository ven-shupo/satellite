{
 "cells": [
  {
   "cell_type": "code",
   "execution_count": null,
   "id": "naughty-looking",
   "metadata": {},
   "outputs": [],
   "source": [
    "import scipy.io.wavfile as wav\n",
    "import scipy.signal as signal\n",
    "import scipy.fft\n",
    "import numpy as np\n",
    "import matplotlib.pyplot as plt\n",
    "import statistics\n",
    "import math\n",
    "from PIL import Image\n",
    "from copy import copy"
   ]
  },
  {
   "cell_type": "markdown",
   "id": "allied-protest",
   "metadata": {},
   "source": [
    "## Прочитаем данные из файла"
   ]
  },
  {
   "cell_type": "code",
   "execution_count": null,
   "id": "seven-trust",
   "metadata": {},
   "outputs": [],
   "source": [
    "fs, data = wav.read('signal.wav')\n",
    "n = math.floor(len(data)*4160/11025)\n",
    "#resample = signal.resample(data, n)\n",
    "len(data)"
   ]
  },
  {
   "cell_type": "markdown",
   "id": "discrete-retro",
   "metadata": {},
   "source": [
    "## Проведем демодуляцию"
   ]
  },
  {
   "cell_type": "markdown",
   "id": "wrapped-contrary",
   "metadata": {},
   "source": [
    "### 1. Основная идея: если у нас есть несколько точкек(хотя бы 2) и мы знаем частоту несущей, то можем восстановить синусоиду, проходящую через данные две точки"
   ]
  },
  {
   "cell_type": "code",
   "execution_count": null,
   "id": "funky-photograph",
   "metadata": {},
   "outputs": [],
   "source": [
    "def get_ampl(t1, t2, a1, a2, w):\n",
    "    alpha = 0.0\n",
    "    a = w*(t1 - t2)/2\n",
    "    b = w*(t1 + t2)/2\n",
    "    if(a1 == 0):\n",
    "        alpha = -w*t1\n",
    "        return (a2/math.sin(w*t2 + alpha), alpha)\n",
    "    if(a2 == 0):\n",
    "        alpha = -w*t2\n",
    "        return (a1/sin(w*t1 + alpha), alpha)\n",
    "    if((a1 + a2) == 0):\n",
    "        alpha = -a\n",
    "    else:\n",
    "        if(a1 == a2):\n",
    "            alpha = -math.atan(((a1-a2)/(a1+a2))/math.tan(a)) - b - math.pi/2\n",
    "        else:\n",
    "            alpha = math.atan(((a1+a2)/(a1-a2))/(-math.tan(a+ math.pi/2))) - b\n",
    "    if(abs(a1)>abs(a2)):\n",
    "        A = a1/math.sin(w*t1 + alpha)\n",
    "    else:\n",
    "        A = a2/math.sin(w*t2 + alpha)\n",
    "    \n",
    "    return (A, alpha)\n",
    "\n",
    "%matplotlib inline\n",
    "t1 = 0.01\n",
    "t2 = 0.015\n",
    "w = 100\n",
    "a1 = 20\n",
    "a2 = 10\n",
    "A, alpha = get_ampl(t1, t2, a1, a2, w)\n",
    "x = [i/500 for i in range(100)]\n",
    "y = [A*math.sin(w*el + alpha) for el in x]\n",
    "plt.plot(x, y)\n",
    "plt.plot([t1, t2], [a1, a2], \"*r\")\n",
    "plt.plot([x[1], x[1]], [-30, 30], \"-r\")\n",
    "plt.plot([x[10], x[10]], [-30, 30], \"-r\")"
   ]
  },
  {
   "cell_type": "markdown",
   "id": "vanilla-usage",
   "metadata": {},
   "source": [
    "## 2. Применим данный подход для демодуляции нашего сигнала"
   ]
  },
  {
   "cell_type": "code",
   "execution_count": null,
   "id": "relevant-agency",
   "metadata": {},
   "outputs": [],
   "source": [
    "# trig\n",
    "\n",
    "%matplotlib inline\n",
    "import scipy.io.wavfile as wav\n",
    "import scipy.signal as signal\n",
    "import scipy.fft\n",
    "import numpy as np\n",
    "import matplotlib.pyplot as plt\n",
    "import statistics\n",
    "import math\n",
    "\n",
    "def get_ampl(t1, t2, a1, a2, w):\n",
    "    alpha = 0.0\n",
    "    a = w*(t1 - t2)/2\n",
    "    b = w*(t1 + t2)/2\n",
    "    if(a1 == 0):\n",
    "        alpha = -w*t1\n",
    "        return (a2/math.sin(w*t2 + alpha), alpha)\n",
    "    if(a2 == 0):\n",
    "        alpha = -w*t2\n",
    "        return (a1/sin(w*t1 + alpha), alpha)\n",
    "    if((a1 + a2) == 0):\n",
    "        alpha = -a\n",
    "    else:\n",
    "        if(a1 == a2):\n",
    "            alpha = -math.atan(((a1-a2)/(a1+a2))/math.tan(a)) - b - math.pi/2\n",
    "        else:\n",
    "            alpha = math.atan(((a1+a2)/(a1-a2))/(-math.tan(a+ math.pi/2))) - b\n",
    "    if(abs(a1)>abs(a2)):\n",
    "        A = a1/math.sin(w*t1 + alpha)\n",
    "    else:\n",
    "        A = a2/math.sin(w*t2 + alpha)\n",
    "    \n",
    "    return (A, alpha)\n",
    "\n",
    "fs, data = wav.read('signal.wav')\n",
    "data = [int(el) for el in data]\n",
    "avg = statistics.mean(data)\n",
    "data = [abs(el - avg) for el in data]\n",
    "\n",
    "N = math.ceil(len(data)/300)\n",
    "f=4160.0\n",
    "fc = 2400.0\n",
    "ratio = 11025.0/4160.0\n",
    "\n",
    "resample = []\n",
    "i = 0\n",
    "current_interval = 0\n",
    "stat = []\n",
    "buf = []\n",
    "while True:\n",
    "    if(i >= len(data)):\n",
    "        resample.append(max(buf))\n",
    "        break\n",
    "    if((((i*f/fs)-current_interval)//1) == 0.0):\n",
    "        buf.append(data[i])\n",
    "    else:\n",
    "        buf.sort()\n",
    "        a1 = buf[-2]\n",
    "        a2 = buf[-1]\n",
    "        t1 = (i-len(buf))/fs\n",
    "        t2 = (i-len(buf)+1)/fs\n",
    "        A = get_ampl(t1, t2, a1, a2, fc*2*math.pi)\n",
    "        stat.append(A)    \n",
    "        resample.append(abs(A[0]))\n",
    "        buf.clear()\n",
    "        buf.append(data[i])\n",
    "        current_interval += 1\n",
    "    i+=1\n",
    "  \n",
    "shift = 1.0/f\n",
    "t1 = [i/fs for i in range(20)]\n",
    "t2 = [i/f + shift/2.0 for i in range(10)]\n",
    "plt.plot(t1, data[0:20])\n",
    "plt.plot(t2, resample[0:10])\n",
    "for el in t2:\n",
    "    plt.plot([el+shift/2.0, el+shift/2.0], [-50, 50], '-r')\n",
    "plt.xlabel(\"Samples\")\n",
    "plt.ylabel(\"Amplitude\")\n",
    "plt.title(\"Signal\")\n",
    "plt.show()\n",
    "\n",
    "data_am1 = resample\n",
    "\n",
    "mx = max(data_am1)\n",
    "mn = min(data_am1)\n",
    "data_am1 = [math.ceil(255*(el-mn)/(mx-mn)) for el in data_am1]\n",
    "frame_width = int(0.5*f)\n",
    "w, h = frame_width, len(data_am1)//frame_width\n",
    "image = Image.new('RGB', (w, h))\n",
    "\n",
    "px, py = 0, 0\n",
    "for p in range(len(data_am1)):\n",
    "    lum = data_am1[p]\n",
    "    if lum < 0: lum = 0\n",
    "    if lum > 255: lum = 255\n",
    "    image.putpixel((px, py), (0, lum, 0))\n",
    "    px += 1\n",
    "    if px >= w:\n",
    "        if (py % 50) == 0:\n",
    "            print(f\"Line saved {py} of {h}\")\n",
    "        px = 0\n",
    "        py += 1\n",
    "        if py >= h:\n",
    "            break\n",
    "            \n",
    "%matplotlib qt\n",
    "plt.imshow(image)\n",
    "plt.show()"
   ]
  },
  {
   "cell_type": "markdown",
   "id": "critical-parcel",
   "metadata": {},
   "source": [
    "## 3.проведем нормализацию данных"
   ]
  },
  {
   "cell_type": "code",
   "execution_count": null,
   "id": "portable-dispatch",
   "metadata": {},
   "outputs": [],
   "source": [
    "mx = max(resample)\n",
    "mn = min(resample)\n",
    "resample = [round(255*(el-mn)/(mx-mn)) for el in resample]"
   ]
  },
  {
   "cell_type": "markdown",
   "id": "signed-volleyball",
   "metadata": {},
   "source": [
    "# Сделаем картинку ровной"
   ]
  },
  {
   "cell_type": "markdown",
   "id": "young-produce",
   "metadata": {},
   "source": [
    "## 1. Реализуем функции для поиска синхроимпульса(ищем точку, для которой отклонение от шаблона минимальное)"
   ]
  },
  {
   "cell_type": "code",
   "execution_count": null,
   "id": "beautiful-paintball",
   "metadata": {},
   "outputs": [],
   "source": [
    "def scan(data, start, pattern):\n",
    "    sm = 0.0\n",
    "    for i in range(len(pattern)):\n",
    "        sm += (data[start+i] - pattern[i])**2\n",
    "    return math.sqrt(sm)\n",
    "\n",
    "def get_min_pos(arr):\n",
    "    mn = arr[0]\n",
    "    pos = 0\n",
    "    for i in range(len(arr)):\n",
    "        if(arr[i] < mn):\n",
    "            mn = arr[i]\n",
    "            pos = i\n",
    "    return pos\n",
    "\n",
    "def get_sync_pulse(data, pattern):\n",
    "    stat1 = []\n",
    "    for i in range(2080):\n",
    "        stat1.append(scan(data, i, pattern1))\n",
    "    return get_min_pos(stat1)\n",
    "\n",
    "\n",
    "    "
   ]
  },
  {
   "cell_type": "markdown",
   "id": "honest-shame",
   "metadata": {},
   "source": [
    "## 2. Выровняем изображение"
   ]
  },
  {
   "cell_type": "code",
   "execution_count": null,
   "id": "stuffed-crystal",
   "metadata": {},
   "outputs": [],
   "source": [
    "resample1 = resample\n",
    "s = '000011001100110011001100110011000000000'\n",
    "s2 = '000011100111001110011100111001110011100'\n",
    "\n",
    "pattern1 = []\n",
    "pattern2 = []\n",
    "\n",
    "for el in s:\n",
    "    pattern1.append(255*int(el))\n",
    "for el in s2:\n",
    "    pattern2.append(255*int(el))\n",
    "img = []\n",
    "start = get_sync_pulse(resample1, pattern1)\n",
    "img = img + resample1[start:start+2080]\n",
    "start = start + 2080\n",
    "while True:\n",
    "    if(start+6000 >= len(resample1)):\n",
    "        break\n",
    "    start = start +  get_sync_pulse(resample1[start+2080:], pattern1)\n",
    "    img = img + resample1[start:start+2080]\n",
    "    start = start + 2080\n",
    "    print(\"{:.2f}\".format(float(start)/float(len(resample1))), end='\\r')\n",
    "\n",
    "        "
   ]
  },
  {
   "cell_type": "code",
   "execution_count": null,
   "id": "prostate-italy",
   "metadata": {},
   "outputs": [],
   "source": [
    "def get_image(img, width):\n",
    "    w, h = width, len(img)//width\n",
    "    image = Image.new('RGB', (w, h))\n",
    "    \n",
    "    px, py = 0, 0\n",
    "    for p in range(len(img)):\n",
    "        lum = img[p]\n",
    "        if lum < 0: lum = 0\n",
    "        if lum > 255: lum = 255\n",
    "        image.putpixel((px, py), (0, lum, 0))\n",
    "        px += 1\n",
    "        if px >= w:\n",
    "            if (py % 50) == 0:\n",
    "                print(f\"Line saved {py} of {h}\")\n",
    "            px = 0\n",
    "            py += 1\n",
    "            if py >= h:\n",
    "                break\n",
    "    return image\n",
    "\n",
    "image = get_image(img, 2080)\n",
    "%matplotlib qt\n",
    "\n",
    "plt.imshow(image)\n",
    "plt.show()"
   ]
  },
  {
   "cell_type": "markdown",
   "id": "administrative-softball",
   "metadata": {},
   "source": [
    "# Выберем часть изображения так, чтобы телеметрия начиналась с начала новой полосы(выбираем диапозон, опираясь на картинку из предыдущего блока)"
   ]
  },
  {
   "cell_type": "code",
   "execution_count": null,
   "id": "finnish-african",
   "metadata": {},
   "outputs": [],
   "source": [
    "img1 = img[273*2080:]\n",
    "image = get_image(img1, 2080)\n",
    "%matplotlib qt\n",
    "\n",
    "plt.imshow(image)\n",
    "plt.show()"
   ]
  },
  {
   "cell_type": "markdown",
   "id": "breeding-reynolds",
   "metadata": {},
   "source": [
    "# Выделим телеметрические данные из изображения"
   ]
  },
  {
   "cell_type": "code",
   "execution_count": null,
   "id": "criminal-change",
   "metadata": {},
   "outputs": [],
   "source": [
    "telemetry = [[], []]\n",
    "i = 0\n",
    "while((i+1040+995+45)<len(img1)):\n",
    "    telemetry[0] = telemetry[0] + img1[i + 995:i+995+45]\n",
    "    telemetry[1] = telemetry[1] + img1[i + 1040 + 995:i+ 1040 + 995+45]\n",
    "    i += 2080"
   ]
  },
  {
   "cell_type": "code",
   "execution_count": null,
   "id": "assumed-compression",
   "metadata": {},
   "outputs": [],
   "source": [
    "image=get_image(telemetry[0], 45)\n",
    "%matplotlib qt\n",
    "wd = len(telemetry)//45\n",
    "plt.imshow(image)\n",
    "plt.show()"
   ]
  },
  {
   "cell_type": "markdown",
   "id": "advance-weekly",
   "metadata": {},
   "source": [
    "# Для каждого блока телеметрии найдем медиану и установим ее в качестве основного значения"
   ]
  },
  {
   "cell_type": "code",
   "execution_count": null,
   "id": "public-puzzle",
   "metadata": {},
   "outputs": [],
   "source": [
    "values = [[], []]\n",
    "for j in range(len(telemetry)):\n",
    "    for i in range(0, len(telemetry[j]), 45*8):\n",
    "        values[j].append(int(math.ceil(statistics.median(telemetry[j][i:i+45*8]))))"
   ]
  },
  {
   "cell_type": "code",
   "execution_count": null,
   "id": "blank-insulin",
   "metadata": {},
   "outputs": [],
   "source": [
    "test = [[], []]\n",
    "for i in range(len(telemetry)):\n",
    "    test[i] = copy(telemetry[i])\n",
    "for j in range(len(telemetry)):  \n",
    "    for i in range(len(test[j])-1):\n",
    "        ind = (i+1)//(45*8)\n",
    "        test[j][i] = values[j][ind]\n",
    "    "
   ]
  },
  {
   "cell_type": "code",
   "execution_count": null,
   "id": "occupied-generator",
   "metadata": {
    "scrolled": true
   },
   "outputs": [],
   "source": [
    "image=get_image(test[1], 45)\n",
    "%matplotlib qt\n",
    "wd = len(test)//45\n",
    "plt.imshow(image)\n",
    "plt.show()"
   ]
  },
  {
   "cell_type": "markdown",
   "id": "answering-wellington",
   "metadata": {},
   "source": [
    "# Сохраним данные"
   ]
  },
  {
   "cell_type": "code",
   "execution_count": null,
   "id": "decent-reunion",
   "metadata": {},
   "outputs": [],
   "source": [
    "np.save(\"image\", np.array(img1))\n",
    "np.save(\"w1\", np.array(test[0]))\n",
    "np.save(\"w2\", np.array(test[1]))"
   ]
  },
  {
   "cell_type": "markdown",
   "id": "dangerous-commercial",
   "metadata": {},
   "source": [
    "# Проверим, что все сохранилось правильно"
   ]
  },
  {
   "cell_type": "code",
   "execution_count": null,
   "id": "stupid-abraham",
   "metadata": {},
   "outputs": [],
   "source": [
    "def load_image(file, image_width):\n",
    "    data = np.load(file)\n",
    "    img = np.reshape(data, (len(data)//image_width, image_width))\n",
    "\n",
    "    image = np.zeros((img.shape[0], img.shape[1], 3), dtype=img.dtype)\n",
    "    for i in range(image.shape[0]):\n",
    "        for j in range(image.shape[1]):\n",
    "            image[i][j][1] = img[i][j]\n",
    "    return image"
   ]
  },
  {
   "cell_type": "code",
   "execution_count": null,
   "id": "tender-fireplace",
   "metadata": {},
   "outputs": [],
   "source": [
    "# get main image\n",
    "image = load_image(\"image.npy\", 2080)\n",
    "\n",
    "%matplotlib qt\n",
    "\n",
    "plt.imshow(image)\n",
    "plt.show()"
   ]
  },
  {
   "cell_type": "code",
   "execution_count": null,
   "id": "pacific-allen",
   "metadata": {},
   "outputs": [],
   "source": [
    "# get normalised wedge\n",
    "wedge = load_image(\"w1.npy\", 45)\n",
    "\n",
    "%matplotlib qt\n",
    "\n",
    "plt.imshow(wedge)\n",
    "plt.show()"
   ]
  },
  {
   "cell_type": "code",
   "execution_count": null,
   "id": "specified-trader",
   "metadata": {},
   "outputs": [],
   "source": []
  }
 ],
 "metadata": {
  "kernelspec": {
   "display_name": "Python 3",
   "language": "python",
   "name": "python3"
  },
  "language_info": {
   "codemirror_mode": {
    "name": "ipython",
    "version": 3
   },
   "file_extension": ".py",
   "mimetype": "text/x-python",
   "name": "python",
   "nbconvert_exporter": "python",
   "pygments_lexer": "ipython3",
   "version": "3.8.10"
  }
 },
 "nbformat": 4,
 "nbformat_minor": 5
}
